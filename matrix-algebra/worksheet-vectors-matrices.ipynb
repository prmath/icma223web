{
 "cells": [
  {
   "cell_type": "markdown",
   "metadata": {},
   "source": [
    "# SAGE\n",
    "\n",
    "Linear Algebra is an increasingly important mathematical tool for science and many disciplines. With the ever-growing power of computers, big problems can be easily solved. For example, a typical application may involve solving a linear system with 100 variables and 100 equations. Trying to solve this system by hand would be virtually impossible.\n",
    "\n",
    "It is therefore important that all linear algebra students should learn and be comfortable with using a computer to solve linear algebraic problems. In our class, we will learn how to use **SAGE** (https://www.sagemath.org/) as a tool to study Linear Algebra. \n",
    "\n",
    "SAGE is a (free) mathematical software that is built in Python, so many of the commands will look familiar if you know Python."
   ]
  },
  {
   "cell_type": "code",
   "execution_count": null,
   "metadata": {},
   "outputs": [],
   "source": [
    "print(2+3)\n",
    "print(5^3)"
   ]
  },
  {
   "cell_type": "code",
   "execution_count": null,
   "metadata": {},
   "outputs": [],
   "source": []
  },
  {
   "cell_type": "code",
   "execution_count": null,
   "metadata": {},
   "outputs": [],
   "source": []
  },
  {
   "cell_type": "code",
   "execution_count": null,
   "metadata": {},
   "outputs": [],
   "source": []
  },
  {
   "cell_type": "markdown",
   "metadata": {},
   "source": [
    "## Vectors and Matrices\n",
    "We can define a vector \n",
    "$$\\vec{v} = \\begin{pmatrix}2\\\\-1\\\\3\\end{pmatrix}$$\n",
    "in SAGE by `vector([2,-1,3])`\n",
    "\n",
    "We can define the matrix\n",
    "$$\\left(\\begin{array}{rrrr}\n",
    "-1 & 0 & 2 & 7 \\\\\n",
    "2 & 1 & -3 & -1\n",
    "\\end{array}\\right)$$\n",
    "\n",
    "by the command: `matrix(2, 4, [-1, 0, 2, 7, 2, 1, -3, -1])`\n",
    "\n",
    "Note that the first number in parentheses is the number of rows, followed by the number of columns, followed by a list of the entries."
   ]
  },
  {
   "cell_type": "code",
   "execution_count": null,
   "metadata": {},
   "outputs": [],
   "source": [
    "vector([2,-1,3])"
   ]
  },
  {
   "cell_type": "code",
   "execution_count": null,
   "metadata": {},
   "outputs": [],
   "source": [
    "matrix(2, 4, [-1, 0, 2, 7, 2, 1, -3, -1])\n"
   ]
  },
  {
   "cell_type": "code",
   "execution_count": null,
   "metadata": {},
   "outputs": [],
   "source": []
  },
  {
   "cell_type": "markdown",
   "metadata": {},
   "source": [
    "## RREF\n",
    "\n",
    "If $A$ is a matrix in SAGE, its reduced row echelon form can be computed using `A.rref()`.\n",
    "\n",
    "**Example.** Define the following matrix and compute its RREF.\n",
    "$$A = \\left(\\begin{array}{rrrr}\n",
    "-1 & -2 & 2 & -1 \\\\\n",
    "2 & 4 & -1 & 5 \\\\\n",
    "1 & 2 & 0 & 3\n",
    "\\end{array}\\right)$$"
   ]
  },
  {
   "cell_type": "code",
   "execution_count": null,
   "metadata": {},
   "outputs": [],
   "source": [
    "A = matrix(3,4,[-1,-2,2,-1,2,4,-1,5,1,2,0,3])\n",
    "A.rref()\n"
   ]
  },
  {
   "cell_type": "markdown",
   "metadata": {},
   "source": [
    "## Basic operations\n",
    "\n",
    "You can perform matrix addition and scalar multiplication using the usual standard notation.\n",
    "$$A = \\left(\\begin{array}{rrr}\n",
    "-1 & -2 & 2 \\\\\n",
    "-1 & 2 & 4\n",
    "\\end{array}\\right),\\qquad B = \\left(\\begin{array}{rrr}\n",
    "1 & 2 & 3 \\\\\n",
    "4 & 5 & 6\n",
    "\\end{array}\\right)$$"
   ]
  },
  {
   "cell_type": "code",
   "execution_count": null,
   "metadata": {},
   "outputs": [],
   "source": [
    "A = matrix(2,3,[-1,-2,2,-1,2,4])\n",
    "B = matrix(2,3,[1,2,3,4,5,6])\n",
    "v = vector([2,-1,3])\n",
    "print(A + B)\n",
    "#print(A - B)\n",
    "#print(2*A)\n",
    "#print(-2*v)"
   ]
  },
  {
   "cell_type": "code",
   "execution_count": null,
   "metadata": {},
   "outputs": [],
   "source": []
  },
  {
   "cell_type": "markdown",
   "metadata": {},
   "source": [
    "The **transpose** of a matrix $A$ is achived by `A.T`"
   ]
  },
  {
   "cell_type": "code",
   "execution_count": null,
   "metadata": {},
   "outputs": [],
   "source": [
    "A.T"
   ]
  },
  {
   "cell_type": "markdown",
   "metadata": {},
   "source": [
    "##  Matrix-vector multiplication\n",
    "\n",
    "If $A$ is a matrix of an appropriate size, then the product $A\\vec{v}$ of a matrix $A$ and a vector $\\vec{v}$ is simply `A*v`. The result is a vector. Let's compute the product\n",
    "$$\\left(\\begin{array}{rrr}\n",
    "-1 & -2 & 2 \\\\\n",
    "-1 & 2 & 4\n",
    "\\end{array}\\right) \\begin{pmatrix}2\\\\-1\\\\3\\end{pmatrix} $$"
   ]
  },
  {
   "cell_type": "code",
   "execution_count": null,
   "metadata": {},
   "outputs": [],
   "source": [
    "A = matrix(2,3,[-1,-2,2,-1,2,4])\n",
    "v = vector([2,-1,3])\n",
    "A*v\n"
   ]
  },
  {
   "cell_type": "markdown",
   "metadata": {},
   "source": [
    "If you create $\\vec{v}$ as a $3\\times 1$ matrix, then the result of `A*v` is a matrix."
   ]
  },
  {
   "cell_type": "code",
   "execution_count": null,
   "metadata": {},
   "outputs": [],
   "source": [
    "A = matrix(2,3,[-1,-2,2,-1,2,4])\n",
    "v = matrix(3,1,[2,-1,3])\n",
    "A*v"
   ]
  },
  {
   "cell_type": "code",
   "execution_count": null,
   "metadata": {},
   "outputs": [],
   "source": []
  },
  {
   "cell_type": "markdown",
   "metadata": {},
   "source": [
    "## Matrix-matrix multiplication\n",
    "\n",
    "The multiplication of a matrix $A$ and a matrix $B$ (assuming compatible dimensions) is `A*B`\n",
    "$$\\left(\\begin{array}{rr}\n",
    "-1 & -2 \\\\\n",
    "2 & -1 \\\\\n",
    "2 & 4\n",
    "\\end{array}\\right)\\left(\\begin{array}{rr}\n",
    "1 & 2 \\\\\n",
    "3 & 4\n",
    "\\end{array}\\right) = $$\n"
   ]
  },
  {
   "cell_type": "code",
   "execution_count": null,
   "metadata": {},
   "outputs": [],
   "source": [
    "A = matrix(3,2,[-1,-2,2,-1,2,4])\n",
    "B = matrix(2,2,[1,2,3,4])\n",
    "A*B"
   ]
  },
  {
   "cell_type": "code",
   "execution_count": null,
   "metadata": {},
   "outputs": [],
   "source": []
  },
  {
   "cell_type": "markdown",
   "metadata": {},
   "source": [
    "## Submatrix\n",
    "\n",
    "If $A$ is a matrix, we can get the entry in row index $i$ and column index $j$ by `A[i,j]`\n",
    "$$A = \\left(\\begin{array}{rr}\n",
    "-1 & -2 \\\\\n",
    "2 & -1 \\\\\n",
    "2 & 4\n",
    "\\end{array}\\right)$$\n",
    "\n",
    "Note that SAGE (like Python) starts counting indes from 0."
   ]
  },
  {
   "cell_type": "code",
   "execution_count": null,
   "metadata": {},
   "outputs": [],
   "source": [
    "A = matrix(3,2,[-1,-2,2,-1,2,4])\n",
    "A[0,0] # (1,1)-entry (in row index 0 and column index 0)"
   ]
  },
  {
   "cell_type": "markdown",
   "metadata": {},
   "source": [
    "We can get the entire row index $i$ by `A[i,:]`, and entire column index $j$ by `A[:,j]`."
   ]
  },
  {
   "cell_type": "code",
   "execution_count": null,
   "metadata": {},
   "outputs": [],
   "source": [
    "A[1,:] # row 2 (index 1) of A"
   ]
  },
  {
   "cell_type": "code",
   "execution_count": null,
   "metadata": {},
   "outputs": [],
   "source": [
    "A[:,0] # row 2 (index 1) of A"
   ]
  },
  {
   "cell_type": "code",
   "execution_count": null,
   "metadata": {},
   "outputs": [],
   "source": [
    "#To get (3,2) entry of AB, we multiply row 3 of A to column 2 of B\n",
    "print(A[2,:]*B[:,1]) # multiply row 2 of A to column 2 of B\n",
    "A*B"
   ]
  },
  {
   "cell_type": "code",
   "execution_count": null,
   "metadata": {},
   "outputs": [],
   "source": []
  },
  {
   "cell_type": "markdown",
   "metadata": {},
   "source": [
    "**Example.** Let\n",
    "$$A= \\left[\\begin{array}{rr}\n",
    "1 & 0 \\\\ 2 & -1 \n",
    "\\end{array}\\right],\\qquad B= \\left[\\begin{array}{rr}\n",
    "-1 & 1 \\\\ 0 & 3 \n",
    "\\end{array}\\right].$$\n",
    "Compute $AB$ and $BA$. Are they equal?"
   ]
  },
  {
   "cell_type": "code",
   "execution_count": null,
   "metadata": {},
   "outputs": [],
   "source": []
  },
  {
   "cell_type": "markdown",
   "metadata": {},
   "source": [
    "**Example.** Let $A=\\begin{pmatrix}1&3&2\\end{pmatrix}$ and $B=\\begin{pmatrix}1\\\\2\\\\4\\end{pmatrix}$. Compute $AB$ and $BA$."
   ]
  },
  {
   "cell_type": "code",
   "execution_count": null,
   "metadata": {},
   "outputs": [],
   "source": []
  },
  {
   "cell_type": "markdown",
   "metadata": {},
   "source": [
    "## Identity matrix\n",
    "\n",
    "An identity matrix is of the form\n",
    "$$I =\\begin{pmatrix}\n",
    "    1 & 0 & 0 \\\\\n",
    "   0 & \\ddots & 0 \\\\\n",
    "  0 & 0 & 1 \\\\\n",
    "  \\end{pmatrix}.$$\n",
    "This is a square matrix. The $n\\times n$ identity matrix $I_n$ can be convenient constructed in SAGE by `identity_matrix(n)`"
   ]
  },
  {
   "cell_type": "code",
   "execution_count": null,
   "metadata": {},
   "outputs": [],
   "source": [
    "identity_matrix(4)"
   ]
  },
  {
   "cell_type": "markdown",
   "metadata": {},
   "source": [
    "**Example.** Let $A=\\left(\\begin{array}{rr}\n",
    "1 & 0 \\\\\n",
    "2 & -1\n",
    "\\end{array}\\right)$. Compute $AI_2$ and $I_2A$"
   ]
  },
  {
   "cell_type": "code",
   "execution_count": null,
   "metadata": {},
   "outputs": [],
   "source": [
    "A = matrix(2,2,[1,0,2,-1])\n"
   ]
  },
  {
   "cell_type": "code",
   "execution_count": null,
   "metadata": {},
   "outputs": [],
   "source": []
  },
  {
   "cell_type": "markdown",
   "metadata": {},
   "source": [
    "## Matrix Power\n",
    "\n",
    "If $A$ is a square matrix and $n$ is a positive integer, we can compute $A^n$ in SAGE by`A^n`\n",
    "\n",
    "$$\\left(\\begin{array}{rr}\n",
    "1 & 2 \\\\\n",
    "3 & 4\n",
    "\\end{array}\\right)^3 = $$"
   ]
  },
  {
   "cell_type": "code",
   "execution_count": null,
   "metadata": {},
   "outputs": [],
   "source": [
    "A = matrix(2,[1,2,3,4])\n",
    "print(A)\n",
    "print(A^3)\n",
    "print(A*A*A)  # same result as A^3"
   ]
  },
  {
   "cell_type": "code",
   "execution_count": null,
   "metadata": {},
   "outputs": [],
   "source": []
  },
  {
   "cell_type": "markdown",
   "metadata": {},
   "source": [
    "## Augmented matrix\n",
    "\n",
    "Let $A, B$ are matrices with the same number of rows. We can form the augmented matrix $[A|B]$ by appending the matrix $B$ at the end of the matrix $A$. This is done in SAGE by `A.augment(B)`. A useful option is `A.augment(b,subdivide=True)` which puts a vertical line between the two matrices.\n",
    "\n",
    "Let's create the augmented matrix\n",
    "$$\\left(\\begin{array}{rrr|r}\n",
    "-1 & 5 & -9 & 10 \\\\\n",
    "5 & -14 & 23 & -28 \\\\\n",
    "2 & -8 & 14 & -16\n",
    "\\end{array}\\right)$$\n"
   ]
  },
  {
   "cell_type": "code",
   "execution_count": null,
   "metadata": {},
   "outputs": [],
   "source": [
    "A = matrix(3,[-1,5,-9,5,-14,23,2,-8,14])\n",
    "b = vector([10,-28,-16])\n",
    "A.augment(b)\n",
    "#A.augment(b,subdivide=True) #put a vertical line between two submatrices"
   ]
  },
  {
   "cell_type": "code",
   "execution_count": null,
   "metadata": {},
   "outputs": [],
   "source": []
  },
  {
   "cell_type": "markdown",
   "metadata": {},
   "source": [
    "# Exercises\n",
    "\n",
    "## Exercise 1. \n",
    "Compute $A\\vec{y}$ for \n",
    "$$A=\\left(\\begin{array}{rrrr}\n",
    "1 & 0 & 2 & -1 \\\\\n",
    "2 & -1 & 0 & 1 \\\\\n",
    "3 & 1 & 3 & 1\n",
    "\\end{array}\\right),\\qquad \\vec{y}=\\left(\\begin{array}{r}\n",
    "2 \\\\ -1 \\\\ 1 \\\\ 4\n",
    "\\end{array}\\right)$$"
   ]
  },
  {
   "cell_type": "code",
   "execution_count": null,
   "metadata": {},
   "outputs": [],
   "source": []
  },
  {
   "cell_type": "markdown",
   "metadata": {},
   "source": [
    "## Exercise 2.\n",
    "Let \n",
    "$$A = \\left(\\begin{array}{rrr}\n",
    "-20 & 0 & -7 \\\\\n",
    "2 & -1 & 2 \\\\\n",
    "1 & 3 & 0\n",
    "\\end{array}\\right), \\qquad B = \\left(\\begin{array}{rrr}\n",
    "10 & 0 & -1 \\\\\n",
    "1 & 0 & 13 \\\\\n",
    "1 & -1 & -1\n",
    "\\end{array}\\right).$$\n",
    "\n",
    "1) Compute $2A-3B^T$"
   ]
  },
  {
   "cell_type": "code",
   "execution_count": null,
   "metadata": {},
   "outputs": [],
   "source": []
  },
  {
   "cell_type": "markdown",
   "metadata": {},
   "source": [
    "2) Compute $B(A-B)^T + A^2$"
   ]
  },
  {
   "cell_type": "code",
   "execution_count": null,
   "metadata": {},
   "outputs": [],
   "source": []
  },
  {
   "cell_type": "markdown",
   "metadata": {},
   "source": [
    "3) Compute $(A+B)^2$. Is it equal to $A^2+2AB+B^2$?"
   ]
  },
  {
   "cell_type": "code",
   "execution_count": null,
   "metadata": {},
   "outputs": [],
   "source": []
  },
  {
   "cell_type": "markdown",
   "metadata": {},
   "source": [
    "## Exercise 3. \n",
    "Consider the system\n",
    "$$\\begin{cases}\n",
    "2x+y-3z &= 4\\\\\n",
    "-x+2y+z &=3\\\\\n",
    "3x-y &= -4\n",
    "\\end{cases}$$\n",
    "\n",
    "Identify the matrix $A$ and vector $\\vec{b}$ to express this system in the form $A \\vec{x}=\\vec{b}$. Then solve the system."
   ]
  },
  {
   "cell_type": "code",
   "execution_count": null,
   "metadata": {},
   "outputs": [],
   "source": []
  },
  {
   "cell_type": "code",
   "execution_count": null,
   "metadata": {},
   "outputs": [],
   "source": []
  },
  {
   "cell_type": "markdown",
   "metadata": {},
   "source": [
    "## Exercise 4. \n",
    "Let $A=\\begin{pmatrix}2&1&3&3\\\\0&1&-1&1\\\\-1&1&-3&0\\end{pmatrix}$. In each case, determine if you can write $\\vec{b}$ as a linear combination of the columns of $A$.\n",
    "\n",
    "$$\\vec{b}=\\begin{pmatrix}1\\\\2\\\\3\\end{pmatrix}, \\qquad \\vec{b}=\\begin{pmatrix}4\\\\2\\\\1\\end{pmatrix}$$"
   ]
  },
  {
   "cell_type": "code",
   "execution_count": null,
   "metadata": {},
   "outputs": [],
   "source": []
  },
  {
   "cell_type": "code",
   "execution_count": null,
   "metadata": {},
   "outputs": [],
   "source": []
  },
  {
   "cell_type": "code",
   "execution_count": null,
   "metadata": {},
   "outputs": [],
   "source": []
  },
  {
   "cell_type": "code",
   "execution_count": null,
   "metadata": {},
   "outputs": [],
   "source": []
  },
  {
   "cell_type": "code",
   "execution_count": null,
   "metadata": {},
   "outputs": [],
   "source": []
  },
  {
   "cell_type": "code",
   "execution_count": null,
   "metadata": {},
   "outputs": [],
   "source": []
  }
 ],
 "metadata": {
  "kernelspec": {
   "display_name": "SageMath 9.0",
   "language": "sage",
   "name": "sagemath"
  },
  "language_info": {
   "codemirror_mode": {
    "name": "ipython",
    "version": 3
   },
   "file_extension": ".py",
   "mimetype": "text/x-python",
   "name": "python",
   "nbconvert_exporter": "python",
   "pygments_lexer": "ipython3",
   "version": "3.7.3"
  }
 },
 "nbformat": 4,
 "nbformat_minor": 2
}
