{
 "cells": [
  {
   "cell_type": "markdown",
   "metadata": {},
   "source": [
    "# SAGE\n",
    "\n",
    "Linear Algebra is an increasingly important mathematical tool for science and many disciplines. With the ever-growing power of computers, big problems can be easily solved. For example, a typical application may involve solving a linear system with 100 variables and 100 equations. Trying to solve this system by hand would be virtually impossible.\n",
    "\n",
    "It is therefore important that all linear algebra students should learn and be comfortable with using a computer to solve linear algebraic problems. In our class, we will learn how to use **SAGE** (https://www.sagemath.org/) as a tool to study Linear Algebra. \n",
    "\n",
    "SAGE is a (free) mathematical software that is built in Python, so many of the commands will look familiar if you know Python."
   ]
  },
  {
   "cell_type": "code",
   "execution_count": null,
   "metadata": {},
   "outputs": [],
   "source": [
    "print(2+3)\n",
    "print(5^3)"
   ]
  },
  {
   "cell_type": "code",
   "execution_count": null,
   "metadata": {},
   "outputs": [],
   "source": []
  },
  {
   "cell_type": "code",
   "execution_count": null,
   "metadata": {},
   "outputs": [],
   "source": []
  },
  {
   "cell_type": "code",
   "execution_count": null,
   "metadata": {},
   "outputs": [],
   "source": []
  },
  {
   "cell_type": "markdown",
   "metadata": {},
   "source": [
    "## Vectors and Matrices\n",
    "We can define a vector \n",
    "$$\\vec{v} = \\begin{pmatrix}2\\\\-1\\\\3\\end{pmatrix}$$\n",
    "in SAGE by `vector([2,-1,3])`\n",
    "\n",
    "We can define the matrix\n",
    "$$\\left(\\begin{array}{rrrr}\n",
    "-1 & 0 & 2 & 7 \\\\\n",
    "2 & 1 & -3 & -1\n",
    "\\end{array}\\right)$$\n",
    "\n",
    "by the command: `matrix(2, 4, [-1, 0, 2, 7, 2, 1, -3, -1])`\n",
    "\n",
    "Note that the first number in parentheses is the number of rows, followed by the number of columns, followed by a list of the entries."
   ]
  },
  {
   "cell_type": "code",
   "execution_count": null,
   "metadata": {},
   "outputs": [],
   "source": [
    "vector([2,-1,3])"
   ]
  },
  {
   "cell_type": "code",
   "execution_count": null,
   "metadata": {},
   "outputs": [],
   "source": [
    "matrix(2, 4, [-1, 0, 2, 7, 2, 1, -3, -1])\n"
   ]
  },
  {
   "cell_type": "code",
   "execution_count": null,
   "metadata": {},
   "outputs": [],
   "source": []
  },
  {
   "cell_type": "markdown",
   "metadata": {},
   "source": [
    "## RREF\n",
    "\n",
    "If $A$ is a matrix in SAGE, its reduced row echelon form can be computed using `A.rref()`.\n",
    "\n",
    "**Example.** Define the following matrix and compute its RREF.\n",
    "$$A = \\left(\\begin{array}{rrrr}\n",
    "-1 & -2 & 2 & -1 \\\\\n",
    "2 & 4 & -1 & 5 \\\\\n",
    "1 & 2 & 0 & 3\n",
    "\\end{array}\\right)$$"
   ]
  },
  {
   "cell_type": "code",
   "execution_count": null,
   "metadata": {},
   "outputs": [],
   "source": [
    "A = matrix(3,4,[-1,-2,2,-1,2,4,-1,5,1,2,0,3])\n",
    "A.rref()\n"
   ]
  },
  {
   "cell_type": "markdown",
   "metadata": {},
   "source": [
    "## Basic operations\n",
    "\n",
    "You can perform matrix addition and scalar multiplication using the usual standard notation.\n",
    "$$A = \\left(\\begin{array}{rrr}\n",
    "-1 & -2 & 2 \\\\\n",
    "-1 & 2 & 4\n",
    "\\end{array}\\right),\\qquad B = \\left(\\begin{array}{rrr}\n",
    "1 & 2 & 3 \\\\\n",
    "4 & 5 & 6\n",
    "\\end{array}\\right)$$"
   ]
  },
  {
   "cell_type": "code",
   "execution_count": 1,
   "metadata": {},
   "outputs": [
    {
     "name": "stdout",
     "output_type": "stream",
     "text": [
      "[ 0  0  5]\n",
      "[ 3  7 10]\n"
     ]
    }
   ],
   "source": [
    "A = matrix(2,3,[-1,-2,2,-1,2,4])\n",
    "B = matrix(2,3,[1,2,3,4,5,6])\n",
    "v = vector([2,-1,3])\n",
    "print(A + B)\n",
    "#print(A - B)\n",
    "#print(2*A)\n",
    "#print(-2*v)"
   ]
  },
  {
   "cell_type": "code",
   "execution_count": null,
   "metadata": {},
   "outputs": [],
   "source": []
  },
  {
   "cell_type": "markdown",
   "metadata": {},
   "source": [
    "The **transpose** of a matrix $A$ is achived by `A.T`"
   ]
  },
  {
   "cell_type": "code",
   "execution_count": 4,
   "metadata": {},
   "outputs": [
    {
     "data": {
      "text/plain": [
       "[-1 -1]\n",
       "[-2  2]\n",
       "[ 2  4]"
      ]
     },
     "execution_count": 4,
     "metadata": {},
     "output_type": "execute_result"
    }
   ],
   "source": [
    "A.T"
   ]
  },
  {
   "cell_type": "markdown",
   "metadata": {},
   "source": [
    "##  Matrix-vector multiplication\n",
    "\n",
    "If $A$ is a matrix of an appropriate size, then the product $A\\vec{v}$ of a matrix $A$ and a vector $\\vec{v}$ is simply `A*v`. The result is a vector. Let's compute the product\n",
    "$$\\left(\\begin{array}{rrr}\n",
    "-1 & -2 & 2 \\\\\n",
    "-1 & 2 & 4\n",
    "\\end{array}\\right) \\begin{pmatrix}2\\\\-1\\\\3\\end{pmatrix} $$"
   ]
  },
  {
   "cell_type": "code",
   "execution_count": 5,
   "metadata": {},
   "outputs": [
    {
     "data": {
      "text/plain": [
       "(6, 8)"
      ]
     },
     "execution_count": 5,
     "metadata": {},
     "output_type": "execute_result"
    }
   ],
   "source": [
    "A = matrix(2,3,[-1,-2,2,-1,2,4])\n",
    "v = vector([2,-1,3])\n",
    "A*v\n"
   ]
  },
  {
   "cell_type": "markdown",
   "metadata": {},
   "source": [
    "If you create $\\vec{v}$ as a $3\\times 1$ matrix, then the result of `A*v` is a matrix."
   ]
  },
  {
   "cell_type": "code",
   "execution_count": 7,
   "metadata": {},
   "outputs": [
    {
     "name": "stdout",
     "output_type": "stream",
     "text": [
      "[ 2]\n",
      "[-1]\n",
      "[ 3]\n"
     ]
    },
    {
     "data": {
      "text/plain": [
       "[6]\n",
       "[8]"
      ]
     },
     "execution_count": 7,
     "metadata": {},
     "output_type": "execute_result"
    }
   ],
   "source": [
    "A = matrix(2,3,[-1,-2,2,-1,2,4])\n",
    "v = matrix(3,1,[2,-1,3])\n",
    "print(v)\n",
    "A*v"
   ]
  },
  {
   "cell_type": "code",
   "execution_count": null,
   "metadata": {},
   "outputs": [],
   "source": []
  },
  {
   "cell_type": "markdown",
   "metadata": {},
   "source": [
    "## Matrix-matrix multiplication\n",
    "\n",
    "The multiplication of a matrix $A$ and a matrix $B$ (assuming compatible dimensions) is `A*B`\n",
    "$$\\left(\\begin{array}{rr}\n",
    "-1 & -2 \\\\\n",
    "2 & -1 \\\\\n",
    "2 & 4\n",
    "\\end{array}\\right)\\left(\\begin{array}{rr}\n",
    "1 & 2 \\\\\n",
    "3 & 4\n",
    "\\end{array}\\right) = $$\n"
   ]
  },
  {
   "cell_type": "code",
   "execution_count": 8,
   "metadata": {},
   "outputs": [
    {
     "data": {
      "text/plain": [
       "[ -7 -10]\n",
       "[ -1   0]\n",
       "[ 14  20]"
      ]
     },
     "execution_count": 8,
     "metadata": {},
     "output_type": "execute_result"
    }
   ],
   "source": [
    "A = matrix(3,2,[-1,-2,2,-1,2,4])\n",
    "B = matrix(2,2,[1,2,3,4])\n",
    "A*B"
   ]
  },
  {
   "cell_type": "code",
   "execution_count": null,
   "metadata": {},
   "outputs": [],
   "source": []
  },
  {
   "cell_type": "markdown",
   "metadata": {},
   "source": [
    "## Submatrix\n",
    "\n",
    "If $A$ is a matrix, we can get the entry in row index $i$ and column index $j$ by `A[i,j]`\n",
    "$$A = \\left(\\begin{array}{rr}\n",
    "-1 & -2 \\\\\n",
    "2 & -1 \\\\\n",
    "2 & 4\n",
    "\\end{array}\\right)$$\n",
    "\n",
    "Note that SAGE (like Python) starts counting indes from 0."
   ]
  },
  {
   "cell_type": "code",
   "execution_count": 76,
   "metadata": {},
   "outputs": [
    {
     "name": "stdout",
     "output_type": "stream",
     "text": [
      "[-1 -2]\n",
      "[ 2 -1]\n",
      "[ 2  4]\n",
      "4\n",
      "4\n"
     ]
    }
   ],
   "source": [
    "A = matrix(3,2,[-1,-2,2,-1,2,4])\n",
    "print(A)\n",
    "print(A[2,1]) # (3,2)-entry (in row index 2 and column index 1)\n",
    "print(A[2][1]) # same result as above"
   ]
  },
  {
   "cell_type": "markdown",
   "metadata": {},
   "source": [
    "We can get the entire row index $i$ by `A[i,:]`, and entire column index $j$ by `A[:,j]`."
   ]
  },
  {
   "cell_type": "code",
   "execution_count": 17,
   "metadata": {},
   "outputs": [
    {
     "data": {
      "text/plain": [
       "[2 4]"
      ]
     },
     "execution_count": 17,
     "metadata": {},
     "output_type": "execute_result"
    }
   ],
   "source": [
    "A[2,:] # row 2 (index 1) of A"
   ]
  },
  {
   "cell_type": "code",
   "execution_count": 77,
   "metadata": {},
   "outputs": [
    {
     "data": {
      "text/plain": [
       "[-1]\n",
       "[ 2]\n",
       "[ 2]"
      ]
     },
     "execution_count": 77,
     "metadata": {},
     "output_type": "execute_result"
    }
   ],
   "source": [
    "A[:,0] # column 1 (index 0) of A"
   ]
  },
  {
   "cell_type": "code",
   "execution_count": 21,
   "metadata": {},
   "outputs": [
    {
     "name": "stdout",
     "output_type": "stream",
     "text": [
      "[20]\n"
     ]
    },
    {
     "data": {
      "text/plain": [
       "[ -7 -10]\n",
       "[ -1   0]\n",
       "[ 14  20]"
      ]
     },
     "execution_count": 21,
     "metadata": {},
     "output_type": "execute_result"
    }
   ],
   "source": [
    "#To get (3,2) entry of AB, we multiply row 3 of A to column 2 of B\n",
    "print(A[2,:]*B[:,1]) # multiply row 2 of A to column 2 of B\n",
    "A*B"
   ]
  },
  {
   "cell_type": "code",
   "execution_count": null,
   "metadata": {},
   "outputs": [],
   "source": []
  },
  {
   "cell_type": "markdown",
   "metadata": {},
   "source": [
    "**Example.** Let\n",
    "$$A= \\left[\\begin{array}{rr}\n",
    "1 & 0 \\\\ 2 & -1 \n",
    "\\end{array}\\right],\\qquad B= \\left[\\begin{array}{rr}\n",
    "-1 & 1 \\\\ 0 & 3 \n",
    "\\end{array}\\right].$$\n",
    "Compute $AB$ and $BA$. Are they equal?"
   ]
  },
  {
   "cell_type": "code",
   "execution_count": 79,
   "metadata": {},
   "outputs": [
    {
     "name": "stdout",
     "output_type": "stream",
     "text": [
      "[-1  1]\n",
      "[-2 -1]\n",
      "[ 1 -1]\n",
      "[ 6 -3]\n"
     ]
    }
   ],
   "source": [
    "A = matrix(2,2,[1,0,2,-1])\n",
    "B = matrix(2,2,[-1,1,0,3])\n",
    "print(A*B)\n",
    "print(B*A)\n",
    "# note that AB <> BA"
   ]
  },
  {
   "cell_type": "markdown",
   "metadata": {},
   "source": [
    "**Example.** Let $A=\\begin{pmatrix}1&3&2\\end{pmatrix}$ and $B=\\begin{pmatrix}1\\\\2\\\\4\\end{pmatrix}$. Compute $AB$ and $BA$."
   ]
  },
  {
   "cell_type": "code",
   "execution_count": 28,
   "metadata": {},
   "outputs": [
    {
     "name": "stdout",
     "output_type": "stream",
     "text": [
      "[15]\n"
     ]
    },
    {
     "data": {
      "text/plain": [
       "[ 1  3  2]\n",
       "[ 2  6  4]\n",
       "[ 4 12  8]"
      ]
     },
     "execution_count": 28,
     "metadata": {},
     "output_type": "execute_result"
    }
   ],
   "source": [
    "A = matrix(1,3,[1,3,2])\n",
    "B = matrix(3,1,[1,2,4])\n",
    "print(A*B)\n",
    "B*A"
   ]
  },
  {
   "cell_type": "markdown",
   "metadata": {},
   "source": [
    "## Identity matrix\n",
    "\n",
    "An identity matrix is of the form\n",
    "$$I =\\begin{pmatrix}\n",
    "    1 & 0 & 0 \\\\\n",
    "   0 & \\ddots & 0 \\\\\n",
    "  0 & 0 & 1 \\\\\n",
    "  \\end{pmatrix}.$$\n",
    "This is a square matrix. The $n\\times n$ identity matrix $I_n$ can be conveniently constructed in SAGE by `identity_matrix(n)`"
   ]
  },
  {
   "cell_type": "code",
   "execution_count": 31,
   "metadata": {},
   "outputs": [
    {
     "data": {
      "text/plain": [
       "[1 0 0 0 0 0 0 0 0 0]\n",
       "[0 1 0 0 0 0 0 0 0 0]\n",
       "[0 0 1 0 0 0 0 0 0 0]\n",
       "[0 0 0 1 0 0 0 0 0 0]\n",
       "[0 0 0 0 1 0 0 0 0 0]\n",
       "[0 0 0 0 0 1 0 0 0 0]\n",
       "[0 0 0 0 0 0 1 0 0 0]\n",
       "[0 0 0 0 0 0 0 1 0 0]\n",
       "[0 0 0 0 0 0 0 0 1 0]\n",
       "[0 0 0 0 0 0 0 0 0 1]"
      ]
     },
     "execution_count": 31,
     "metadata": {},
     "output_type": "execute_result"
    }
   ],
   "source": [
    "#matrix(2,2,[1,0,0,1])\n",
    "identity_matrix(10)"
   ]
  },
  {
   "cell_type": "markdown",
   "metadata": {},
   "source": [
    "**Example.** Let $A=\\left(\\begin{array}{rr}\n",
    "1 & 0 \\\\\n",
    "2 & -1\n",
    "\\end{array}\\right)$. Compute $AI_2$ and $I_2A$"
   ]
  },
  {
   "cell_type": "code",
   "execution_count": 35,
   "metadata": {},
   "outputs": [
    {
     "data": {
      "text/plain": [
       "[ 1  0]\n",
       "[ 2 -1]"
      ]
     },
     "execution_count": 35,
     "metadata": {},
     "output_type": "execute_result"
    }
   ],
   "source": [
    "A = matrix(2,2,[1,0,2,-1])\n",
    "I = identity_matrix(2)\n",
    "A*I  # AI = A\n",
    "I*A  # IA = A\n"
   ]
  },
  {
   "cell_type": "code",
   "execution_count": null,
   "metadata": {},
   "outputs": [],
   "source": []
  },
  {
   "cell_type": "markdown",
   "metadata": {},
   "source": [
    "## Matrix Power\n",
    "\n",
    "If $A$ is a square matrix and $n$ is a positive integer, we can compute $A^n$ in SAGE by`A^n`\n",
    "\n",
    "$$\\left(\\begin{array}{rr}\n",
    "1 & 2 \\\\\n",
    "3 & 4\n",
    "\\end{array}\\right)^3 = $$"
   ]
  },
  {
   "cell_type": "code",
   "execution_count": 38,
   "metadata": {},
   "outputs": [
    {
     "name": "stdout",
     "output_type": "stream",
     "text": [
      "[1 2]\n",
      "[3 4]\n",
      "[ 37  54]\n",
      "[ 81 118]\n",
      "[ 37  54]\n",
      "[ 81 118]\n"
     ]
    }
   ],
   "source": [
    "A = matrix(2,[1,2,3,4])\n",
    "print(A)\n",
    "print(A^3)\n",
    "print(A*A*A)  # same result as A^3"
   ]
  },
  {
   "cell_type": "code",
   "execution_count": null,
   "metadata": {},
   "outputs": [],
   "source": []
  },
  {
   "cell_type": "markdown",
   "metadata": {},
   "source": [
    "## Augmented matrix\n",
    "\n",
    "Let $A, B$ are matrices with the same number of rows. We can form the augmented matrix $[A|B]$ by appending the matrix $B$ at the end of the matrix $A$. This is done in SAGE by `A.augment(B)`. A useful option is `A.augment(b,subdivide=True)` which puts a vertical line between the two matrices.\n",
    "\n",
    "Let's create the augmented matrix\n",
    "$$\\left(\\begin{array}{rrr|r}\n",
    "-1 & 5 & -9 & 10 \\\\\n",
    "5 & -14 & 23 & -28 \\\\\n",
    "2 & -8 & 14 & -16\n",
    "\\end{array}\\right)$$\n"
   ]
  },
  {
   "cell_type": "code",
   "execution_count": 41,
   "metadata": {},
   "outputs": [
    {
     "name": "stdout",
     "output_type": "stream",
     "text": [
      "[ -1   5  -9]\n",
      "[  5 -14  23]\n",
      "[  2  -8  14]\n"
     ]
    },
    {
     "data": {
      "text/plain": [
       "[ -1   5  -9| 10]\n",
       "[  5 -14  23|-28]\n",
       "[  2  -8  14|-16]"
      ]
     },
     "execution_count": 41,
     "metadata": {},
     "output_type": "execute_result"
    }
   ],
   "source": [
    "A = matrix(3,[-1,5,-9,5,-14,23,2,-8,14])\n",
    "print(A)\n",
    "b = vector([10,-28,-16])\n",
    "#A.augment(b)\n",
    "A.augment(b,subdivide=True) #put a vertical line between two submatrices"
   ]
  },
  {
   "cell_type": "code",
   "execution_count": 44,
   "metadata": {},
   "outputs": [
    {
     "data": {
      "text/plain": [
       "[ 1  0 -1| 0]\n",
       "[ 0  1 -2| 2]\n",
       "[ 0  0  0| 0]"
      ]
     },
     "execution_count": 44,
     "metadata": {},
     "output_type": "execute_result"
    }
   ],
   "source": [
    "A.augment(b,subdivide=True).rref()"
   ]
  },
  {
   "cell_type": "markdown",
   "metadata": {},
   "source": [
    "# Exercises\n",
    "\n",
    "## Exercise 1. \n",
    "Compute $A\\vec{y}$ for \n",
    "$$A=\\left(\\begin{array}{rrrr}\n",
    "1 & 0 & 2 & -1 \\\\\n",
    "2 & -1 & 0 & 1 \\\\\n",
    "3 & 1 & 3 & 1\n",
    "\\end{array}\\right),\\qquad \\vec{y}=\\left(\\begin{array}{r}\n",
    "2 \\\\ -1 \\\\ 1 \\\\ 4\n",
    "\\end{array}\\right)$$"
   ]
  },
  {
   "cell_type": "code",
   "execution_count": 46,
   "metadata": {},
   "outputs": [
    {
     "data": {
      "text/plain": [
       "(0, 9, 12)"
      ]
     },
     "execution_count": 46,
     "metadata": {},
     "output_type": "execute_result"
    }
   ],
   "source": [
    "A = matrix(3,4,[1,0,2,-1,2,-1,0,1,3,1,3,1])\n",
    "y = vector([2,-1,1,4])\n",
    "A*y"
   ]
  },
  {
   "cell_type": "markdown",
   "metadata": {},
   "source": [
    "## Exercise 2.\n",
    "Let \n",
    "$$A = \\left(\\begin{array}{rrr}\n",
    "-20 & 0 & -7 \\\\\n",
    "2 & -1 & 2 \\\\\n",
    "1 & 3 & 0\n",
    "\\end{array}\\right), \\qquad B = \\left(\\begin{array}{rrr}\n",
    "10 & 0 & -1 \\\\\n",
    "1 & 0 & 13 \\\\\n",
    "1 & -1 & -1\n",
    "\\end{array}\\right).$$\n",
    "\n",
    "1) Compute $2A-3B^T$"
   ]
  },
  {
   "cell_type": "code",
   "execution_count": 52,
   "metadata": {},
   "outputs": [
    {
     "data": {
      "text/plain": [
       "[-70  -3 -17]\n",
       "[  4  -2   7]\n",
       "[  5 -33   3]"
      ]
     },
     "execution_count": 52,
     "metadata": {},
     "output_type": "execute_result"
    }
   ],
   "source": [
    "A = matrix(3,3,[-20,0,-7,2,-1,2,1,3,0])\n",
    "B = matrix(3,3,[10,0,-1,1,0,13,1,-1,-1])\n",
    "2*A - 3*(B.T)"
   ]
  },
  {
   "cell_type": "markdown",
   "metadata": {},
   "source": [
    "2) Compute $B(A-B)^T + A^2$"
   ]
  },
  {
   "cell_type": "code",
   "execution_count": 53,
   "metadata": {},
   "outputs": [
    {
     "data": {
      "text/plain": [
       "[  99    0  139]\n",
       "[-148 -135   -3]\n",
       "[ -38   10   -6]"
      ]
     },
     "execution_count": 53,
     "metadata": {},
     "output_type": "execute_result"
    }
   ],
   "source": [
    "B*((A-B).T) + A^2"
   ]
  },
  {
   "cell_type": "code",
   "execution_count": 54,
   "metadata": {},
   "outputs": [
    {
     "data": {
      "text/plain": [
       "[393 -21 140]\n",
       "[-40   7 -16]\n",
       "[-14  -3  -1]"
      ]
     },
     "execution_count": 54,
     "metadata": {},
     "output_type": "execute_result"
    }
   ],
   "source": [
    "A^2"
   ]
  },
  {
   "cell_type": "markdown",
   "metadata": {},
   "source": [
    "3) Compute $(A+B)^2$. Is it equal to $A^2+2AB+B^2$?"
   ]
  },
  {
   "cell_type": "code",
   "execution_count": 58,
   "metadata": {},
   "outputs": [
    {
     "name": "stdout",
     "output_type": "stream",
     "text": [
      "[ 84 -16  88]\n",
      "[ -3  31 -54]\n",
      "[-16  -4  15]\n",
      "[ 78  -6 185]\n",
      "[ 25 -10 -64]\n",
      "[ 20  -2  62]\n"
     ]
    }
   ],
   "source": [
    "print((A+B)^2)\n",
    "print(A^2+2*A*B+B^2)\n",
    "#print(A*B)\n",
    "#print(B*A)"
   ]
  },
  {
   "cell_type": "markdown",
   "metadata": {},
   "source": [
    "## Exercise 3. \n",
    "Consider the system\n",
    "$$\\begin{cases}\n",
    "2x+y-3z &= 4\\\\\n",
    "-x+2y+z &=3\\\\\n",
    "3x-y &= -4\n",
    "\\end{cases}$$\n",
    "\n",
    "Identify the matrix $A$ and vector $\\vec{b}$ to express this system in the form $A \\vec{x}=\\vec{b}$. Then solve the system."
   ]
  },
  {
   "cell_type": "code",
   "execution_count": 62,
   "metadata": {},
   "outputs": [
    {
     "name": "stdout",
     "output_type": "stream",
     "text": [
      "[ 2  1 -3]\n",
      "[-1  2  1]\n",
      "[ 3 -1  0]\n",
      "(4, 3, -4)\n"
     ]
    },
    {
     "data": {
      "text/plain": [
       "[   1    0    0|-3/4]\n",
       "[   0    1    0| 7/4]\n",
       "[   0    0    1|-5/4]"
      ]
     },
     "execution_count": 62,
     "metadata": {},
     "output_type": "execute_result"
    }
   ],
   "source": [
    "A = matrix(3,3,(2,1,-3,-1,2,1,3,-1,0))\n",
    "print(A)\n",
    "b = vector([4,3,-4])\n",
    "print(b)\n",
    "A.augment(b,subdivide=True).rref()\n",
    "# solution\n",
    "# x= -3/4\n",
    "# y= 7/4\n",
    "# z = -5/4"
   ]
  },
  {
   "cell_type": "code",
   "execution_count": null,
   "metadata": {},
   "outputs": [],
   "source": []
  },
  {
   "cell_type": "markdown",
   "metadata": {},
   "source": [
    "## Exercise 4. \n",
    "Let $A=\\begin{pmatrix}2&1&3&3\\\\0&1&-1&1\\\\-1&1&-3&0\\end{pmatrix}$. In each case, determine if you can write $\\vec{b}$ as a linear combination of the columns of $A$.\n",
    "\n",
    "$$\\vec{b}=\\begin{pmatrix}1\\\\2\\\\3\\end{pmatrix}, \\qquad \\vec{b}=\\begin{pmatrix}4\\\\2\\\\1\\end{pmatrix}$$"
   ]
  },
  {
   "cell_type": "code",
   "execution_count": 73,
   "metadata": {},
   "outputs": [
    {
     "data": {
      "text/plain": [
       "[4]\n",
       "[2]\n",
       "[1]"
      ]
     },
     "execution_count": 73,
     "metadata": {},
     "output_type": "execute_result"
    }
   ],
   "source": [
    "A = matrix(3,4,(2,1,3,3,0,1,-1,1,-1,1,-3,0))\n",
    "b1 = vector([1,2,3])\n",
    "Ab1 = A.augment(b1,subdivide=True)\n",
    "Ab1.rref()\n",
    "\n",
    "# The third row is a bad row. So no solution.\n",
    "\n",
    "b2 = vector([4,2,1])\n",
    "Ab2 = A.augment(b2,subdivide=True)\n",
    "Ab2.rref()\n",
    "\n",
    "# No bad row. So infinitely many solutions.\n",
    "# x1 = 1\n",
    "# x2 = 2\n",
    "# x3 = 0\n",
    "# x4 = 0\n",
    "\n",
    "# 1*a1 + 2*a2 should be b2\n",
    "a1 = A[:,0]\n",
    "a2 = A[:,1]\n",
    "1*a1 + 2*a2"
   ]
  },
  {
   "cell_type": "code",
   "execution_count": null,
   "metadata": {},
   "outputs": [],
   "source": []
  },
  {
   "cell_type": "code",
   "execution_count": null,
   "metadata": {},
   "outputs": [],
   "source": []
  },
  {
   "cell_type": "code",
   "execution_count": null,
   "metadata": {},
   "outputs": [],
   "source": []
  },
  {
   "cell_type": "code",
   "execution_count": null,
   "metadata": {},
   "outputs": [],
   "source": []
  },
  {
   "cell_type": "code",
   "execution_count": null,
   "metadata": {},
   "outputs": [],
   "source": []
  }
 ],
 "metadata": {
  "kernelspec": {
   "display_name": "SageMath 9.0",
   "language": "sage",
   "name": "sagemath"
  },
  "language_info": {
   "codemirror_mode": {
    "name": "ipython",
    "version": 3
   },
   "file_extension": ".py",
   "mimetype": "text/x-python",
   "name": "python",
   "nbconvert_exporter": "python",
   "pygments_lexer": "ipython3",
   "version": "3.7.3"
  }
 },
 "nbformat": 4,
 "nbformat_minor": 2
}
