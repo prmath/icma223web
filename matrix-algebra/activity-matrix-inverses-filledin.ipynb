{
 "cells": [
  {
   "cell_type": "markdown",
   "metadata": {
    "collapsed": false
   },
   "source": [
    "# Find Matrix Inverse"
   ]
  },
  {
   "cell_type": "markdown",
   "metadata": {
    "collapsed": false
   },
   "source": [
    "## Example 1\n",
    "We begin with the matrix\n",
    "$$\n",
    "A = \\begin{pmatrix}1 & 0 & 2 \\\\\n",
    "2 & 2 & 1 \\\\\n",
    "1 & 1 & 1\\end{pmatrix}.\n",
    "$$\n",
    "\n",
    "We would like to find a matrix $B$ such that $AB = I$ and $BA=I$."
   ]
  },
  {
   "cell_type": "code",
   "execution_count": 1,
   "metadata": {
    "collapsed": false
   },
   "outputs": [
    {
     "data": {
      "text/plain": [
       "[1 0 2]\n",
       "[2 2 1]\n",
       "[1 1 1]"
      ]
     },
     "execution_count": 1,
     "metadata": {
     },
     "output_type": "execute_result"
    }
   ],
   "source": [
    "A = matrix(3,3,[1,0,2,2,2,1,1,1,1])\n",
    "A"
   ]
  },
  {
   "cell_type": "markdown",
   "metadata": {
    "collapsed": false
   },
   "source": [
    "Consider the equation $AB=I$. If we write $B = (\\vec{b}_1 | \\vec{b}_2| \\vec{b}_3)$, where $\\vec{b}_i$ are the columns of $B$, then we have\n",
    "$$\n",
    "AB = (A\\vec{b}_1 | A\\vec{b}_2| A\\vec{b}_3) = I = (\\vec{e}_1 | \\vec{e}_2| \\vec{e}_3).\n",
    "$$\n",
    "\n",
    "This means that we need to solve the equations\n",
    "$$\n",
    "A \\vec{b}_1 = \\vec{e}_1, \\quad A \\vec{b}_2 = \\vec{e}_2, \\quad A \\vec{b}_3 = \\vec{e}_3.\n",
    "$$"
   ]
  },
  {
   "cell_type": "code",
   "execution_count": 2,
   "metadata": {
    "collapsed": false
   },
   "outputs": [
    {
     "name": "stdout",
     "output_type": "stream",
     "text": [
      "[1 0 2|1]\n",
      "[2 2 1|0]\n",
      "[1 1 1|0]\n"
     ]
    },
    {
     "data": {
      "text/plain": [
       "[ 1  0  0| 1]\n",
       "[ 0  1  0|-1]\n",
       "[ 0  0  1| 0]"
      ]
     },
     "execution_count": 2,
     "metadata": {
     },
     "output_type": "execute_result"
    }
   ],
   "source": [
    "# solve for b1\n",
    "e1 = vector([1,0,0])\n",
    "Ae1 = A.augment(e1,subdivide=True)\n",
    "print(Ae1)\n",
    "Ae1.rref()"
   ]
  },
  {
   "cell_type": "markdown",
   "metadata": {
    "collapsed": false
   },
   "source": [
    "Thus $\\vec{b}_1 = (1,-1,0)^T$."
   ]
  },
  {
   "cell_type": "code",
   "execution_count": 3,
   "metadata": {
    "collapsed": false
   },
   "outputs": [
    {
     "data": {
      "text/plain": [
       "[ 1]\n",
       "[-1]\n",
       "[ 0]"
      ]
     },
     "execution_count": 3,
     "metadata": {
     },
     "output_type": "execute_result"
    }
   ],
   "source": [
    "b1 = Ae1.rref()[:,3]  # take only the last column (index 3)\n",
    "b1"
   ]
  },
  {
   "cell_type": "code",
   "execution_count": 4,
   "metadata": {
    "collapsed": false,
    "scrolled": true
   },
   "outputs": [
    {
     "name": "stdout",
     "output_type": "stream",
     "text": [
      "[1 0 2|0]\n",
      "[2 2 1|1]\n",
      "[1 1 1|0]\n"
     ]
    },
    {
     "data": {
      "text/plain": [
       "[ 1  0  0| 2]\n",
       "[ 0  1  0|-1]\n",
       "[ 0  0  1|-1]"
      ]
     },
     "execution_count": 4,
     "metadata": {
     },
     "output_type": "execute_result"
    }
   ],
   "source": [
    "# solve for b2\n",
    "e2 = vector([0,1,0])\n",
    "Ae2 = A.augment(e2,subdivide=True)\n",
    "print(Ae2)\n",
    "Ae2.rref()"
   ]
  },
  {
   "cell_type": "markdown",
   "metadata": {
    "collapsed": false
   },
   "source": [
    "Thus $\\vec{b}_2 = (2,-1,-1)^T$."
   ]
  },
  {
   "cell_type": "code",
   "execution_count": 5,
   "metadata": {
    "collapsed": false
   },
   "outputs": [
    {
     "data": {
      "text/plain": [
       "[ 2]\n",
       "[-1]\n",
       "[-1]"
      ]
     },
     "execution_count": 5,
     "metadata": {
     },
     "output_type": "execute_result"
    }
   ],
   "source": [
    "b2 = Ae2.rref()[:,3]  # take only the last column\n",
    "b2"
   ]
  },
  {
   "cell_type": "code",
   "execution_count": 6,
   "metadata": {
    "collapsed": false,
    "scrolled": true
   },
   "outputs": [
    {
     "name": "stdout",
     "output_type": "stream",
     "text": [
      "[1 0 2|0]\n",
      "[2 2 1|0]\n",
      "[1 1 1|1]\n"
     ]
    },
    {
     "data": {
      "text/plain": [
       "[ 1  0  0|-4]\n",
       "[ 0  1  0| 3]\n",
       "[ 0  0  1| 2]"
      ]
     },
     "execution_count": 6,
     "metadata": {
     },
     "output_type": "execute_result"
    }
   ],
   "source": [
    "# solve for b3\n",
    "e3 = vector([0,0,1])\n",
    "Ae3 = A.augment(e3,subdivide=True)\n",
    "print(Ae3)\n",
    "Ae3.rref()"
   ]
  },
  {
   "cell_type": "markdown",
   "metadata": {
    "collapsed": false
   },
   "source": [
    "Thus $\\vec{b}_3 = (-4,3,2)^T$."
   ]
  },
  {
   "cell_type": "code",
   "execution_count": 7,
   "metadata": {
    "collapsed": false
   },
   "outputs": [
    {
     "data": {
      "text/plain": [
       "[-4]\n",
       "[ 3]\n",
       "[ 2]"
      ]
     },
     "execution_count": 7,
     "metadata": {
     },
     "output_type": "execute_result"
    }
   ],
   "source": [
    "b3 = Ae3.rref()[:,3]  # take only the last column\n",
    "b3"
   ]
  },
  {
   "cell_type": "markdown",
   "metadata": {
    "collapsed": false
   },
   "source": [
    "Now assemble the columns of $B$ to form the matrix $B$. "
   ]
  },
  {
   "cell_type": "code",
   "execution_count": 8,
   "metadata": {
    "collapsed": false
   },
   "outputs": [
    {
     "data": {
      "text/plain": [
       "[ 1  2 -4]\n",
       "[-1 -1  3]\n",
       "[ 0 -1  2]"
      ]
     },
     "execution_count": 8,
     "metadata": {
     },
     "output_type": "execute_result"
    }
   ],
   "source": [
    "B = b1.augment(b2).augment(b3)\n",
    "B"
   ]
  },
  {
   "cell_type": "markdown",
   "metadata": {
    "collapsed": false
   },
   "source": [
    "We check that $AB = I$ and $BA=I$."
   ]
  },
  {
   "cell_type": "code",
   "execution_count": 9,
   "metadata": {
    "collapsed": false
   },
   "outputs": [
    {
     "name": "stdout",
     "output_type": "stream",
     "text": [
      "AB = \n",
      "[1 0 0]\n",
      "[0 1 0]\n",
      "[0 0 1]\n",
      "BA = \n",
      "[1 0 0]\n",
      "[0 1 0]\n",
      "[0 0 1]\n"
     ]
    }
   ],
   "source": [
    "print(f'AB = \\n{A*B}')\n",
    "print(f'BA = \\n{B*A}')"
   ]
  },
  {
   "cell_type": "markdown",
   "metadata": {
    "collapsed": false
   },
   "source": [
    "Thus the inverse of $A$ is \n",
    "$$\n",
    "B = \\begin{pmatrix}1 & 2 & -4 \\\\\n",
    "-1 & -1 & 3 \\\\\n",
    "0 & -1 & 2\\end{pmatrix}\n",
    "$$"
   ]
  },
  {
   "cell_type": "markdown",
   "metadata": {
    "collapsed": false
   },
   "source": [
    "Note that to find the columns of $B$, we solved three equations, $A \\vec{b}_i = \\vec{e}_i$ by reducing the following three augmented matrices separately:\n",
    "$$\n",
    "(A | \\vec{e}_1) , \\quad (A | \\vec{e}_2), \\quad (A | \\vec{e}_3).\n",
    "$$\n",
    "\n",
    "The sequences of elementary row operations to reduce the above matrices are the same, dictated by the matrix $A$ on the left.\n",
    "\n",
    "Thus, we can save time by instead reducing the following augmented matrix\n",
    "$$\n",
    "(A | \\vec{e}_1 | \\vec{e}_2 | \\vec{e}_3)\n",
    "$$ "
   ]
  },
  {
   "cell_type": "code",
   "execution_count": 10,
   "metadata": {
    "collapsed": false
   },
   "outputs": [
    {
     "name": "stdout",
     "output_type": "stream",
     "text": [
      "[1 0 2|1|0|0]\n",
      "[2 2 1|0|1|0]\n",
      "[1 1 1|0|0|1]\n"
     ]
    },
    {
     "data": {
      "text/plain": [
       "[ 1  0  0| 1| 2|-4]\n",
       "[ 0  1  0|-1|-1| 3]\n",
       "[ 0  0  1| 0|-1| 2]"
      ]
     },
     "execution_count": 10,
     "metadata": {
     },
     "output_type": "execute_result"
    }
   ],
   "source": [
    "AA = A.augment(e1,subdivide=True).augment(e2,subdivide=True).augment(e3,subdivide=True)\n",
    "print(AA)\n",
    "AA.rref()"
   ]
  },
  {
   "cell_type": "markdown",
   "metadata": {
    "collapsed": false
   },
   "source": [
    "or simply reduce the following augmented matrix\n",
    "$$\n",
    "(A | I)\n",
    "$$"
   ]
  },
  {
   "cell_type": "code",
   "execution_count": 11,
   "metadata": {
    "collapsed": false
   },
   "outputs": [
    {
     "name": "stdout",
     "output_type": "stream",
     "text": [
      "[1 0 2|1 0 0]\n",
      "[2 2 1|0 1 0]\n",
      "[1 1 1|0 0 1]\n"
     ]
    },
    {
     "data": {
      "text/plain": [
       "[ 1  0  0| 1  2 -4]\n",
       "[ 0  1  0|-1 -1  3]\n",
       "[ 0  0  1| 0 -1  2]"
      ]
     },
     "execution_count": 11,
     "metadata": {
     },
     "output_type": "execute_result"
    }
   ],
   "source": [
    "AA = A.augment(identity_matrix(3),subdivide=True)\n",
    "print(AA)\n",
    "AA.rref()"
   ]
  },
  {
   "cell_type": "markdown",
   "metadata": {
    "collapsed": false
   },
   "source": [
    "If $A$ is invertible, then we will have\n",
    "$$\n",
    "(A|I) \\longrightarrow (I|A^{-1})\n",
    "$$\n",
    "Thus the inverse of $A$ appears on the right half of the RREF of $(A|I)$."
   ]
  },
  {
   "cell_type": "code",
   "execution_count": 12,
   "metadata": {
    "collapsed": false
   },
   "outputs": [
    {
     "data": {
      "text/plain": [
       "[ 1  2 -4]\n",
       "[-1 -1  3]\n",
       "[ 0 -1  2]"
      ]
     },
     "execution_count": 12,
     "metadata": {
     },
     "output_type": "execute_result"
    }
   ],
   "source": [
    "B = AA.rref()[:,[3..5]]  # use only the last three columns (index 3,4,5)\n",
    "B"
   ]
  },
  {
   "cell_type": "markdown",
   "metadata": {
    "collapsed": false
   },
   "source": [
    "## Example 2\n",
    "Determine, if possible, the inverse of \n",
    "$$\n",
    "A = \\begin{pmatrix}1 & -2 & -1 \\\\\n",
    "-1 & 5 & 6 \\\\\n",
    "5 & -4 & 6\\end{pmatrix}.\n",
    "$$"
   ]
  },
  {
   "cell_type": "code",
   "execution_count": 24,
   "metadata": {
    "collapsed": false
   },
   "outputs": [
    {
     "name": "stdout",
     "output_type": "stream",
     "text": [
      "[ 1 -2 -1]\n",
      "[-1  5  6]\n",
      "[ 5 -4  6]\n"
     ]
    }
   ],
   "source": [
    "A = matrix(3,3,[1,-2,-1,-1,5,6,5,-4,6])\n",
    "print(A)"
   ]
  },
  {
   "cell_type": "code",
   "execution_count": 19,
   "metadata": {
    "collapsed": false
   },
   "outputs": [
    {
     "data": {
      "text/plain": [
       "[1 0 0]\n",
       "[0 1 0]\n",
       "[0 0 1]"
      ]
     },
     "execution_count": 19,
     "metadata": {
     },
     "output_type": "execute_result"
    }
   ],
   "source": [
    "AA = A.augment(identity_matrix(3)).rref()\n",
    "B = AA[:,[3..5]]\n",
    "B*A"
   ]
  },
  {
   "cell_type": "code",
   "execution_count": 28,
   "metadata": {
    "collapsed": false
   },
   "outputs": [
    {
     "data": {
      "text/plain": [
       "[  18 16/3 -7/3]\n",
       "[  12 11/3 -5/3]\n",
       "[  -7   -2    1]"
      ]
     },
     "execution_count": 28,
     "metadata": {
     },
     "output_type": "execute_result"
    }
   ],
   "source": [
    "#A.inverse()\n",
    "A^-1"
   ]
  },
  {
   "cell_type": "markdown",
   "metadata": {
    "collapsed": false
   },
   "source": [
    "## Example 3\n",
    "Determine, if possible, the inverse of \n",
    "$$\n",
    "A = \\begin{pmatrix}1 & -2 & -1 \\\\\n",
    "-1 & 5 & 6 \\\\\n",
    "5 & -4 & 6\\end{pmatrix}.\n",
    "$$"
   ]
  },
  {
   "cell_type": "code",
   "execution_count": 1,
   "metadata": {
    "collapsed": false
   },
   "outputs": [
    {
     "name": "stdout",
     "output_type": "stream",
     "text": [
      "[ 1  6  4]\n",
      "[ 2  4 -1]\n",
      "[-1  2  5]\n"
     ]
    }
   ],
   "source": [
    "A = matrix(3,3,[1,6,4,2,4,-1,-1,2,5])\n",
    "print(A)"
   ]
  },
  {
   "cell_type": "code",
   "execution_count": 22,
   "metadata": {
    "collapsed": false
   },
   "outputs": [
    {
     "data": {
      "text/plain": [
       "[    1     0 -11/4     0   1/4  -1/2]\n",
       "[    0     1   9/8     0   1/8   1/4]\n",
       "[    0     0     0     1    -1    -1]"
      ]
     },
     "execution_count": 22,
     "metadata": {
     },
     "output_type": "execute_result"
    }
   ],
   "source": [
    "A.augment(identity_matrix(3)).rref()"
   ]
  },
  {
   "cell_type": "code",
   "execution_count": 0,
   "metadata": {
    "collapsed": false
   },
   "outputs": [
   ],
   "source": [
   ]
  },
  {
   "cell_type": "code",
   "execution_count": 0,
   "metadata": {
    "collapsed": false
   },
   "outputs": [
   ],
   "source": [
   ]
  }
 ],
 "metadata": {
  "kernelspec": {
   "display_name": "SageMath 9.2",
   "language": "sagemath",
   "metadata": {
    "cocalc": {
     "description": "Open-source mathematical software system",
     "priority": 10,
     "url": "https://www.sagemath.org/"
    }
   },
   "name": "sage-9.2",
   "resource_dir": "/ext/jupyter/kernels/sage-9.2"
  },
  "language_info": {
   "codemirror_mode": {
    "name": "ipython",
    "version": 3
   },
   "file_extension": ".py",
   "mimetype": "text/x-python",
   "name": "python",
   "nbconvert_exporter": "python",
   "pygments_lexer": "ipython3",
   "version": "3.8.5"
  }
 },
 "nbformat": 4,
 "nbformat_minor": 4
}