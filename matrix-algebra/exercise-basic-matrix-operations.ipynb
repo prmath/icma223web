{
 "cells": [
  {
   "cell_type": "markdown",
   "metadata": {},
   "source": [
    "# Problem 1.\n",
    "\n",
    "Let $A = \\left(\\begin{array}{rrr}\n",
    "1 & 0 & -3 \\\\\n",
    "0 & 7 & 1\n",
    "\\end{array}\\right)$ and $B=\\left(\\begin{array}{rrr}\n",
    "4 & -2 & -1 \\\\\n",
    "1 & 7 & -5\n",
    "\\end{array}\\right)$\n",
    "\n",
    "1) Compute $2A^T-3(B-A)^T$"
   ]
  },
  {
   "cell_type": "code",
   "execution_count": null,
   "metadata": {},
   "outputs": [],
   "source": []
  },
  {
   "cell_type": "markdown",
   "metadata": {},
   "source": [
    "2) Compute $2AB^T - 14I$ where $I$ is the identity matrix of dimension."
   ]
  },
  {
   "cell_type": "code",
   "execution_count": null,
   "metadata": {},
   "outputs": [],
   "source": []
  },
  {
   "cell_type": "markdown",
   "metadata": {},
   "source": [
    "# Problem 2.\n",
    "\n"
   ]
  },
  {
   "cell_type": "markdown",
   "metadata": {},
   "source": [
    "Let $A = \\left(\\begin{array}{rrr}\n",
    "1 & 1 & -12 \\\\\n",
    "-2 & 2 & 1 \\\\\n",
    "3 & -1 & 1\n",
    "\\end{array}\\right)$ and $B = \\left(\\begin{array}{rrr}\n",
    "-6 & -1 & 3 \\\\\n",
    "-1 & 1 & 4 \\\\\n",
    "0 & -1 & 17\n",
    "\\end{array}\\right)$\n",
    "\n",
    "1) Let $X$ be the matrix such that\n",
    "$$2X+B^T(A-2B) = (A^T-2B^T)B.$$\n",
    "\n",
    "Find $X$. Is it anti-symmetric?\n",
    "\n",
    "*(Hint: use algebra to find an expression for $X$ first, before you use SAGE to compute it.)*"
   ]
  },
  {
   "cell_type": "code",
   "execution_count": null,
   "metadata": {},
   "outputs": [],
   "source": []
  },
  {
   "cell_type": "markdown",
   "metadata": {},
   "source": [
    "2) Is it always the case that: for any 3x3 matrices $A,B$, if $X$ is such that $2X+B^T(A-2B) = (A^T-2B^T)B$, then $X$ is antisymmetric?"
   ]
  },
  {
   "cell_type": "code",
   "execution_count": null,
   "metadata": {},
   "outputs": [],
   "source": []
  },
  {
   "cell_type": "markdown",
   "metadata": {},
   "source": [
    "# Problem 3. \n",
    "The operations that we perform in Gaussian elimination can be accomplished using matrix multiplication. This observation is the basis of an important technique that we will investigate in a subsequent lecture.\n",
    "\n",
    "Consider the matrix\n",
    "$$A = \\left(\\begin{array}{rrr}\n",
    "1 & 2 & -1 \\\\\n",
    "2 & 0 & 3 \\\\\n",
    "3 & -2 & 1\n",
    "\\end{array}\\right).$$\n",
    "\n",
    "1) Suppose that\n",
    "$$S = \\left(\\begin{array}{rrr}\n",
    "1 & 0 & 0 \\\\\n",
    "0 & 5 & 0 \\\\\n",
    "0 & 0 & 1\n",
    "\\end{array}\\right).$$\n",
    "\n",
    "Verify that $SA$ is the matrix that results when the second row of $A$ is scaled by a factor of 5. What matrix $S$ would scale the third row by $-3$?"
   ]
  },
  {
   "cell_type": "code",
   "execution_count": null,
   "metadata": {},
   "outputs": [],
   "source": []
  },
  {
   "cell_type": "markdown",
   "metadata": {},
   "source": [
    "2) Suppose that\n",
    "$$P = \\left(\\begin{array}{rrr}\n",
    "0 & 1 & 0 \\\\\n",
    "1 & 0 & 0 \\\\\n",
    "0 & 0 & 1\n",
    "\\end{array}\\right).$$\n",
    "\n",
    "Verify that $PA$ is the matrix that results from interchanging the first and second rows of $A$. \n",
    "What matrix $P$ would interchange the first and third rows?"
   ]
  },
  {
   "cell_type": "code",
   "execution_count": null,
   "metadata": {},
   "outputs": [],
   "source": []
  },
  {
   "cell_type": "markdown",
   "metadata": {},
   "source": [
    "3) Suppose that\n",
    "$$L = \\left(\\begin{array}{rrr}\n",
    "1 & 0 & 0 \\\\\n",
    "-2 & 1 & 0 \\\\\n",
    "0 & 0 & 1\n",
    "\\end{array}\\right).$$\n",
    "\n",
    "Verify that $LA$ is the matrix that results from multiplying the first row of $A$ by $-2$ and adding it to the second row. What matrix $L$ would multiply the first row by $-3$ and add it to the third row?"
   ]
  },
  {
   "cell_type": "code",
   "execution_count": null,
   "metadata": {},
   "outputs": [],
   "source": []
  },
  {
   "cell_type": "markdown",
   "metadata": {},
   "source": [
    "# Problem 4.\n",
    "In this exercise, you will construct the *inverse* of a matrix, a topic that we will investigate more fully in the next lecture. Suppose that $A$ is the $2\\times 2$ matrix\n",
    "$$A = \\left(\\begin{array}{rr}\n",
    "3 & -2 \\\\\n",
    "-2 & 1\n",
    "\\end{array}\\right).$$\n",
    "We are going to find the matrix $B$ such that $$AB = I = \\left(\\begin{array}{rr}\n",
    "1 & 0 \\\\\n",
    "0 & 1\n",
    "\\end{array}\\right).$$ We will find $B = (\\vec{b}_1 | \\vec{b}_2)$ column by column.\n",
    "\n",
    "1) Find the vectors $\\vec{b}_1$ such that $A\\vec{b}_1 = \\begin{pmatrix}1\\\\0\\end{pmatrix}$.\n",
    "\n",
    "Define this as a 2x1 matrix and name it `b1`. Hint: Use `X[:,2]` to get column index 2 of X."
   ]
  },
  {
   "cell_type": "code",
   "execution_count": null,
   "metadata": {},
   "outputs": [],
   "source": []
  },
  {
   "cell_type": "markdown",
   "metadata": {},
   "source": [
    "2) Find the vectors $\\vec{b}_2$ such that $A\\vec{b}_2 = \\begin{pmatrix}0\\\\1\\end{pmatrix}$.\n",
    "\n",
    "Define this as a 2x1 matrix and name it `b2`."
   ]
  },
  {
   "cell_type": "code",
   "execution_count": null,
   "metadata": {},
   "outputs": [],
   "source": []
  },
  {
   "cell_type": "markdown",
   "metadata": {},
   "source": [
    "3) Now form a matrix `B = b1.augment(b2)`. What do you get when you multiply $AB$?  (Hint: A times every column of $B$.)"
   ]
  },
  {
   "cell_type": "code",
   "execution_count": null,
   "metadata": {},
   "outputs": [],
   "source": [
    "B = b1.augment(b2)\n",
    "print(A*B)"
   ]
  },
  {
   "cell_type": "markdown",
   "metadata": {},
   "source": [
    "4) Now repeat the process again with \n",
    "$$A = \\left(\\begin{array}{rrr}\n",
    "16 & -13 & -84 \\\\\n",
    "-1 & 2 & 11 \\\\\n",
    "-5 & 4 & 26\n",
    "\\end{array}\\right)$$\n",
    "\n",
    "Determine (column by column) a 3x3 matrix $B = (\\vec{b}_1|\\vec{b}_2|\\vec{b}_3)$ such that\n",
    "$$AB = \\left(\\begin{array}{rrr}\n",
    "1 & 0 & 0 \\\\\n",
    "0 & 1 & 0 \\\\\n",
    "0 & 0 & 1\n",
    "\\end{array}\\right).$$"
   ]
  },
  {
   "cell_type": "code",
   "execution_count": null,
   "metadata": {},
   "outputs": [],
   "source": []
  },
  {
   "cell_type": "code",
   "execution_count": null,
   "metadata": {},
   "outputs": [],
   "source": []
  },
  {
   "cell_type": "markdown",
   "metadata": {},
   "source": [
    "Now form a matrix $B$ and test that $AB=I$"
   ]
  },
  {
   "cell_type": "code",
   "execution_count": null,
   "metadata": {},
   "outputs": [],
   "source": []
  },
  {
   "cell_type": "markdown",
   "metadata": {},
   "source": [
    "# Problem 5.\n",
    "Suppose that a city is starting a bicycle sharing program with bicycles at locations $B$ and $C$. Bicycles that are rented at one location may be returned to either location at the end of the day. \n",
    "* Over time, the city finds that 80% of bicycles rented at location $B$ are returned to $B$ with the other 20% returned to $C$. \n",
    "* Similarly, 50% of bicycles rented at location $C$ are returned to $B$ and 50% to $C$.\n",
    "\n",
    "To keep track of the bicycles, we form a vector\n",
    "$$\\vec{x}_k = \\begin{bmatrix}B_k\\\\C_k\\end{bmatrix}$$\n",
    "\n",
    "where $B_k$ is the number of bycycles at location $B$ at the beginning of day $k$ and $C_k$ is the number of bicycles at $C$.\n",
    "\n",
    "The information above tells us \n",
    "$$\\vec{x}_{k+1} = A \\vec{x}_k$$\n",
    "\n",
    "where\n",
    "$$A = \\left[\\begin{array}{rr}\n",
    "0.8 & 0.5 \\\\\n",
    "0.2 & 0.5\n",
    "\\end{array}\\right].$$\n",
    "\n",
    "1) Suppose that there are 1000 bicycles at location $B$ and none at $C$ on day 1. This means that we have $\\vec{x}_1 = \\begin{bmatrix}1000\\\\0\\end{bmatrix}$. Find the number of bicycles at both locations on day 2 by evaluating $\\vec{x}_{2} = A \\vec{x}_1$."
   ]
  },
  {
   "cell_type": "code",
   "execution_count": null,
   "metadata": {},
   "outputs": [],
   "source": []
  },
  {
   "cell_type": "markdown",
   "metadata": {},
   "source": [
    "2) Suppose that there are 1000 bicycles at location $C$ and none at $B$ on day 1. Form the vector $\\vec{x}_1$ and determine the number of bicycles at the two locations the next day by fining $\\vec{x}_{2} = A \\vec{x}_1$."
   ]
  },
  {
   "cell_type": "code",
   "execution_count": null,
   "metadata": {},
   "outputs": [],
   "source": []
  },
  {
   "cell_type": "markdown",
   "metadata": {},
   "source": [
    "3) Suppose that one day there are 1050 bicycles at location $B$ and 450 at location $C$. How many bicycles were there at each location the previous day?"
   ]
  },
  {
   "cell_type": "code",
   "execution_count": null,
   "metadata": {},
   "outputs": [],
   "source": []
  },
  {
   "cell_type": "markdown",
   "metadata": {},
   "source": [
    "4) Suppose that there are 500 bicycles at location $B$ and 500 at location $C$ on Monday. How many bicycles are there at the two locations on Tuesday? on Wednesday? on Thursday?"
   ]
  },
  {
   "cell_type": "code",
   "execution_count": null,
   "metadata": {},
   "outputs": [],
   "source": []
  }
 ],
 "metadata": {
  "kernelspec": {
   "display_name": "SageMath 9.0",
   "language": "sage",
   "name": "sagemath"
  },
  "language_info": {
   "codemirror_mode": {
    "name": "ipython",
    "version": 3
   },
   "file_extension": ".py",
   "mimetype": "text/x-python",
   "name": "python",
   "nbconvert_exporter": "python",
   "pygments_lexer": "ipython3",
   "version": "3.7.3"
  }
 },
 "nbformat": 4,
 "nbformat_minor": 2
}
